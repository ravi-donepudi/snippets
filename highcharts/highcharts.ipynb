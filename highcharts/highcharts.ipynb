{
 "cells": [
  {
   "cell_type": "code",
   "execution_count": null,
   "id": "408bbaf4",
   "metadata": {},
   "outputs": [],
   "source": [
    "#https://www.highcharts.com/blog/tutorials/highcharts-core-for-python-getting-started/\n",
    "\n",
    "from highcharts_core import highcharts as hc\n",
    "from highcharts_core.options.title import Title\n",
    "import pandas as pd\n",
    "import numpy as np\n"
   ]
  },
  {
   "cell_type": "code",
   "execution_count": null,
   "id": "796bb015",
   "metadata": {},
   "outputs": [],
   "source": [
    "my_iterable = [\n",
    "    [0, 123],\n",
    "    [1, 456],\n",
    "    [2, 789],\n",
    "    [3, 987],\n",
    "    [4, 654],\n",
    "    [5, 321]\n",
    "]\n",
    "df = pd.DataFrame(my_iterable, columns=['x', 'y']);\n",
    "as_ndarray = np.asarray(my_iterable)\n"
   ]
  },
  {
   "cell_type": "code",
   "execution_count": 24,
   "id": "27da7d84",
   "metadata": {},
   "outputs": [
    {
     "data": {
      "text/html": [
       "<div id=\"highcharts_target_div_O05LT5\" style=\"width:100%; height:400;\"></div>\n"
      ],
      "text/plain": [
       "<IPython.core.display.HTML object>"
      ]
     },
     "metadata": {},
     "output_type": "display_data"
    },
    {
     "data": {
      "application/javascript": "var has_requirejs = typeof requirejs !== 'undefined';\nif (has_requirejs) {\nrequire.config({\n  packages: [{\n    name: 'highcharts', main: 'highcharts' }],\n  paths: {\n    'highcharts': 'https://code.highcharts.com/'\n  }\n\n}); require(['highcharts'], function (Highcharts) {\nfunction retryHighcharts(fn, container = 'highcharts_target_div', retries = 5, retriesLeft = 5, \n        interval = 1000) {\n            return new Promise((resolve, reject) => {\n            try {\n                fn()\n                return resolve();\n            } catch (err) {\n                if ((err instanceof ReferenceError) || (err instanceof TypeError) || (err.message.includes('#17'))) {\n                    if (retriesLeft === 0) {\n                        var target_div = document.getElementById(container);\n                        if (target_div) {\n                            var timeElapsed = (retries * interval) / 1000;\n                            var errorMessage = \"Something went wrong with the Highcharts.js script. It should have been automatically loaded, but it did not load for over \" + timeElapsed + \" seconds. Check your internet connection, and then if the problem persists please reach out for support. (You can also check your browser's console log for more details.)<br/><br/>Detailed Error Message:<br/>\" + err.message;\n                            var errorHTML = errorMessage;\n                            \n                            target_div.innerHTML = errorHTML;\n                            console.log(errorMessage);\n                            console.error(err);\n                        }\n                        return reject();\n                    }\n\n                    setTimeout(() => {\n                        retryHighcharts(fn, container, retries, retriesLeft - 1, interval).then(resolve).catch(reject);\n                    }, interval);\n                } else if ((err instanceof Error) && (err.message.includes('#13'))) {\n                    var errorMessage = \"It looks like the container specified '\" + container + \"' was not created successfully. Please check your browser's console log for more details.\";\n                    console.error(errorMessage);\n                    console.error(err);\n                    \n                    return reject();\n                } else {\n                    throw err;\n                }\n            }\n        });\n    };function insertChart_O05LT5() {\n\nHighcharts.chart('highcharts_target_div_O05LT5',\n{\n  series: [{\n  data: [[0,\n123],\n[1,\n456],\n[2,\n789],\n[3,\n987],\n[4,\n654],\n[5,\n321]],\n  type: 'line'\n}]\n},\n);\n\n};\nretryHighcharts(insertChart_O05LT5, 'highcharts_target_div_O05LT5', 5, 5, 1000);\n});\n} else {\nnew Promise(function(resolve, reject) {\n  var existing_tags = document.querySelectorAll(\"script[src='https://code.highcharts.com/highcharts.js']\");  if (existing_tags.length == 0) {\n            var script = document.createElement(\"script\");\n            script.onload = resolve;\n            script.onerror = reject;        script.src = 'https://code.highcharts.com/highcharts.js';        document.head.appendChild(script);\n        } else { resolve() };\n    }).then(() => {});\n};",
      "text/plain": [
       "<IPython.core.display.Javascript object>"
      ]
     },
     "metadata": {},
     "output_type": "display_data"
    },
    {
     "data": {
      "application/javascript": "var has_requirejs = typeof requirejs !== 'undefined';\nif (has_requirejs) {\n\n} else {\nfunction retryHighcharts(fn, container = 'highcharts_target_div', retries = 5, retriesLeft = 5, \n        interval = 1000) {\n            return new Promise((resolve, reject) => {\n            try {\n                fn()\n                return resolve();\n            } catch (err) {\n                if ((err instanceof ReferenceError) || (err instanceof TypeError) || (err.message.includes('#17'))) {\n                    if (retriesLeft === 0) {\n                        var target_div = document.getElementById(container);\n                        if (target_div) {\n                            var timeElapsed = (retries * interval) / 1000;\n                            var errorMessage = \"Something went wrong with the Highcharts.js script. It should have been automatically loaded, but it did not load for over \" + timeElapsed + \" seconds. Check your internet connection, and then if the problem persists please reach out for support. (You can also check your browser's console log for more details.)<br/><br/>Detailed Error Message:<br/>\" + err.message;\n                            var errorHTML = errorMessage;\n                            \n                            target_div.innerHTML = errorHTML;\n                            console.log(errorMessage);\n                            console.error(err);\n                        }\n                        return reject();\n                    }\n\n                    setTimeout(() => {\n                        retryHighcharts(fn, container, retries, retriesLeft - 1, interval).then(resolve).catch(reject);\n                    }, interval);\n                } else if ((err instanceof Error) && (err.message.includes('#13'))) {\n                    var errorMessage = \"It looks like the container specified '\" + container + \"' was not created successfully. Please check your browser's console log for more details.\";\n                    console.error(errorMessage);\n                    console.error(err);\n                    \n                    return reject();\n                } else {\n                    throw err;\n                }\n            }\n        });\n    };function insertChart_O05LT5() {\n\nHighcharts.chart('highcharts_target_div_O05LT5',\n{\n  series: [{\n  data: [[0,\n123],\n[1,\n456],\n[2,\n789],\n[3,\n987],\n[4,\n654],\n[5,\n321]],\n  type: 'line'\n}]\n},\n);\n\n};\nretryHighcharts(insertChart_O05LT5, 'highcharts_target_div_O05LT5', 5, 5, 1000);\n};",
      "text/plain": [
       "<IPython.core.display.Javascript object>"
      ]
     },
     "metadata": {},
     "output_type": "display_data"
    }
   ],
   "source": [
    "my_chart = hc.Chart(data = my_iterable, series_type = 'line');\n",
    "\n",
    "json = my_chart.to_json()\n",
    "png = my_chart.display()"
   ]
  },
  {
   "cell_type": "code",
   "execution_count": null,
   "id": "201b4e7d",
   "metadata": {},
   "outputs": [],
   "source": []
  }
 ],
 "metadata": {
  "kernelspec": {
   "display_name": "Python 3",
   "language": "python",
   "name": "python3"
  },
  "language_info": {
   "codemirror_mode": {
    "name": "ipython",
    "version": 3
   },
   "file_extension": ".py",
   "mimetype": "text/x-python",
   "name": "python",
   "nbconvert_exporter": "python",
   "pygments_lexer": "ipython3",
   "version": "3.12.11"
  }
 },
 "nbformat": 4,
 "nbformat_minor": 5
}
